{
 "cells": [
  {
   "cell_type": "code",
   "execution_count": 19,
   "metadata": {},
   "outputs": [],
   "source": [
    "import pandas as pd\n",
    "import math"
   ]
  },
  {
   "cell_type": "code",
   "execution_count": 2,
   "metadata": {},
   "outputs": [],
   "source": [
    "data = pd.read_csv(\"D:\\ICEEYE\\Proposal_ID_PP0091278\\CS-13801\\SLEA_3279211_180312\\ATL10QL-01_20240119042539_04792201_006_01.h5.csv\")"
   ]
  },
  {
   "cell_type": "code",
   "execution_count": 28,
   "metadata": {},
   "outputs": [
    {
     "name": "stdout",
     "output_type": "stream",
     "text": [
      "Index(['Unnamed: 0', 'gt1rLat', 'gt1rLon', 'gt1rFBH', 'gt1rDist(m)', 'gt1lLat',\n",
      "       'gt1lLon', 'gt1lFBH', 'gt1lDist(m)', 'gt2rLat', 'gt2rLon', 'gt2rFBH',\n",
      "       'gt2rDist(m)', 'gt2lLat', 'gt2lLon', 'gt2lFBH', 'gt2lDist(m)',\n",
      "       'gt3rLat', 'gt3rLon', 'gt3rFBH', 'gt3rDist(m)', 'gt3lLat', 'gt3lLon',\n",
      "       'gt3lFBH', 'gt3lDist(m)', 'Calendar Time'],\n",
      "      dtype='object')\n"
     ]
    }
   ],
   "source": [
    "print(data.columns)\n",
    "new_df = {\n",
    "  \"Beam\": [],\n",
    "  \"Lat\": [],\n",
    "  \"Lon\": [],\n",
    "  \"fbh\": [],\n",
    "  \"Time\": []\n",
    "}"
   ]
  },
  {
   "cell_type": "code",
   "execution_count": 29,
   "metadata": {},
   "outputs": [],
   "source": [
    "colNames = data.columns\n",
    "for i in range(1):\n",
    "    row = data.loc[i]\n",
    "    for beam in ['gt1r', 'gt1l', 'gt2r', 'gt2l', 'gt3r', 'gt3l']:\n",
    "        fbhCol = beam + \"FBH\"\n",
    "        fbhVal = row[fbhCol]\n",
    "        if not math.isnan(fbhVal):\n",
    "            latCol = beam + \"Lat\"\n",
    "            lonCol = beam + \"Lon\"\n",
    "            lat = row[latCol]\n",
    "            lon = row[lonCol]\n",
    "            new_df['Beam'].append(beam)\n",
    "            new_df['Lat'].append(lat)\n",
    "            new_df['Lon'].append(lon)\n",
    "            new_df['fbh'].append(fbhVal)\n",
    "            new_df['Time'].append(row['Calendar Time'])\n",
    "        \n",
    "    # for col in data.columns:\n",
    "    #     print(col, '-', data.loc[i, col])\n",
    "df = pd.DataFrame(new_df)"
   ]
  },
  {
   "cell_type": "code",
   "execution_count": null,
   "metadata": {},
   "outputs": [],
   "source": [
    "pd.to_csv(\"Joined-Beams.csv\")"
   ]
  }
 ],
 "metadata": {
  "kernelspec": {
   "display_name": "Python 3",
   "language": "python",
   "name": "python3"
  },
  "language_info": {
   "codemirror_mode": {
    "name": "ipython",
    "version": 3
   },
   "file_extension": ".py",
   "mimetype": "text/x-python",
   "name": "python",
   "nbconvert_exporter": "python",
   "pygments_lexer": "ipython3",
   "version": "3.10.11"
  }
 },
 "nbformat": 4,
 "nbformat_minor": 2
}
