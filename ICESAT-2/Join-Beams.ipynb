{
 "cells": [
  {
   "cell_type": "code",
   "execution_count": null,
   "metadata": {},
   "outputs": [],
   "source": [
    "import pandas as pd\n",
    "import math"
   ]
  },
  {
   "cell_type": "code",
   "execution_count": null,
   "metadata": {},
   "outputs": [],
   "source": [
    "data = pd.read_csv(\"D:\\ICEEYE\\Proposal_ID_PP0091278\\CS-13801\\SLH_3280232_180380\\IceSat Files\\ATL10QL-01_20240120163420_05022201_006_01.h5.csv\")"
   ]
  },
  {
   "cell_type": "code",
   "execution_count": null,
   "metadata": {},
   "outputs": [],
   "source": [
    "print(data.columns)\n",
    "new_df = {\n",
    "  \"Beam\": [],\n",
    "  \"Lat\": [],\n",
    "  \"Lon\": [],\n",
    "  \"fbh\": [],\n",
    "  \"Time\": []\n",
    "}"
   ]
  },
  {
   "cell_type": "code",
   "execution_count": null,
   "metadata": {},
   "outputs": [],
   "source": [
    "colNames = data.columns\n",
    "for i,_ in data.iterrows():\n",
    "    row = data.loc[i]\n",
    "    for beam in ['gt1r', 'gt1l', 'gt2r', 'gt2l', 'gt3r', 'gt3l']:\n",
    "        fbhCol = beam + \"FBH\"\n",
    "        fbhVal = row[fbhCol]\n",
    "        if not math.isnan(fbhVal):\n",
    "            latCol = beam + \"Lat\"\n",
    "            lonCol = beam + \"Lon\"\n",
    "            lat = float(row[latCol])\n",
    "            lon = float(row[lonCol])\n",
    "            if lat < 72.855 and lon < -133.85:\n",
    "                print(\"Appending\")\n",
    "                new_df['Beam'].append(beam)\n",
    "                new_df['Lat'].append(lat)\n",
    "                new_df['Lon'].append(lon)\n",
    "                new_df['fbh'].append(fbhVal)\n",
    "                new_df['Time'].append(row['Calendar Time'])\n",
    "            else:\n",
    "                print(lat, lon)\n",
    "        \n",
    "    # for col in data.columns:\n",
    "    #     print(col, '-', data.loc[i, col])\n",
    "df = pd.DataFrame(new_df)\n",
    "print(df.head)"
   ]
  },
  {
   "cell_type": "code",
   "execution_count": null,
   "metadata": {},
   "outputs": [],
   "source": [
    "df.to_csv(\"Joined-Beams.csv\")"
   ]
  }
 ],
 "metadata": {
  "kernelspec": {
   "display_name": "Python 3",
   "language": "python",
   "name": "python3"
  },
  "language_info": {
   "codemirror_mode": {
    "name": "ipython",
    "version": 3
   },
   "file_extension": ".py",
   "mimetype": "text/x-python",
   "name": "python",
   "nbconvert_exporter": "python",
   "pygments_lexer": "ipython3",
   "version": "3.10.11"
  }
 },
 "nbformat": 4,
 "nbformat_minor": 2
}
