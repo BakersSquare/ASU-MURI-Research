{
 "cells": [
  {
   "cell_type": "code",
   "execution_count": null,
   "id": "37cb5803",
   "metadata": {},
   "outputs": [],
   "source": [
    "from osgeo import gdal\n",
    "from math import floor\n",
    "import pandas as pd\n",
    "import numpy as np\n",
    "import matplotlib.pyplot as plt\n",
    "import struct"
   ]
  },
  {
   "cell_type": "markdown",
   "id": "eab68edc",
   "metadata": {},
   "source": [
    "Python Documentation\n",
    "https://gdal.org/api/python/osgeo.gdal.html\n",
    "https://stackoverflow.com/questions/50191648/gis-geotiff-gdal-python-how-to-get-coordinates-from-pixel\n",
    "https://gdal.org/programs/gdal2tiles.html\n",
    "^ Use this last link with the os module to tlie the geotiff\n",
    "https://www.youtube.com/watch?v=H5uQ85VXttg&list=PL4aUQR9L9RFp7kuu38hInDE-9ByueEMES&index=6\n",
    "^ Or follow the ideas in this vid tutorial!!!"
   ]
  },
  {
   "cell_type": "markdown",
   "id": "151580b8",
   "metadata": {},
   "source": [
    "# Exploratory GDAL Manipulation"
   ]
  },
  {
   "cell_type": "code",
   "execution_count": null,
   "id": "a6be8f36",
   "metadata": {
    "scrolled": true
   },
   "outputs": [],
   "source": [
    "# Opening the raster\n",
    "raster = \"./s1a-ew-grd-hv-20210304t163412-20210304t163512-036851-045567-002.tiff\"\n",
    "ds = gdal.Open(raster)"
   ]
  },
  {
   "cell_type": "code",
   "execution_count": null,
   "id": "1bc0555f",
   "metadata": {},
   "outputs": [],
   "source": [
    "# Obtaining GeoTIFF metadata\n",
    "print(\"'ds' type\", type(ds))\n",
    "print(\"Projection: \", ds.GetProjection()) # get projection\n",
    "print(\"Pixel width:\", ds.RasterXSize)  # number of columns\n",
    "print(\"Pixel Height:\", ds.RasterYSize)  # number of rows\n",
    "print(\"Band count:\", ds.RasterCount)  # number of bands\n",
    "print(\"GeoTransform\", ds.GetGeoTransform()) # GeoTransform is a tuple of this sequence\n",
    "# (topleftXCoord (xmin), pixelWidth (resolution in m), rowRotation(usually 0), topYCoord (ymax), columnRotation(usually 0), pixel height(in meters negative for north up images))\n",
    "print(\"Projection\", ds.GetProjection())"
   ]
  },
  {
   "cell_type": "code",
   "execution_count": null,
   "id": "688379be",
   "metadata": {},
   "outputs": [],
   "source": [
    "# Reading the raster data\n",
    "data_array = ds.GetRasterBand(1).ReadAsArray() # Indexing for raster bands starts at 1, not 0\n",
    "data_array.shape\n",
    "plt.figure(figsize=(10, 10))\n",
    "plt.imshow(data_array) # Data array contains elevation data from the raster band. Is this always true?\n",
    "plt.colorbar()\n",
    "plt.show()"
   ]
  },
  {
   "cell_type": "code",
   "execution_count": null,
   "id": "b21e3357",
   "metadata": {},
   "outputs": [],
   "source": [
    "# Rasterbands have a designated no-data-value, so we should figure out what it is\n",
    "print(\"No data value:\", ds.GetRasterBand(1).GetNoDataValue())\n",
    "\n",
    "# Lets say that the value is None, we can always set one\n",
    "ds.GetRasterBand(1).SetNoDataValue(0)\n",
    "print(\"No data value:\", ds.GetRasterBand(1).GetNoDataValue())"
   ]
  },
  {
   "cell_type": "code",
   "execution_count": null,
   "id": "692e4192",
   "metadata": {},
   "outputs": [],
   "source": [
    "# To close a raster, we just set the variable equal to none\n",
    "ds = None"
   ]
  },
  {
   "cell_type": "code",
   "execution_count": null,
   "id": "844a7563",
   "metadata": {},
   "outputs": [],
   "source": [
    "## Here we're replicating the above process, but with the geoTiff that correlates to the coordinates of our CSV from the h5 file.\n",
    "raster2 = \"./20200223_154949_SCWA_HH_8bit_50m.tif\"\n",
    "ds2 = gdal.Open(raster2)\n",
    "print(gdal.Info(ds2))"
   ]
  },
  {
   "cell_type": "code",
   "execution_count": null,
   "id": "8b56017f",
   "metadata": {},
   "outputs": [],
   "source": [
    "# Reproject the test case into lat/long by specifying the dstSRS (ATL10 Data product says the lat/long is the EPSG coordinate system)\n",
    "gdal.Warp(\"reprojected.tiff\",raster2,dstSRS='EPSG:4326')\n",
    "raster2 = \"./reprojected.tiff\"\n",
    "ds2 = gdal.Open(raster2)"
   ]
  },
  {
   "cell_type": "code",
   "execution_count": null,
   "id": "e48f138f",
   "metadata": {},
   "outputs": [],
   "source": [
    "print(\"Projection: \", ds2.GetProjection()) # get projection\n",
    "print(\"Tiff width (pixels):\", ds2.RasterXSize)  # number of columns\n",
    "print(\"Tiff Height (pixels):\", ds2.RasterYSize)  # number of rows\n",
    "print(\"Band count:\", ds2.RasterCount)  # number of bands\n",
    "print(\"GeoTransform Matrix\", ds2.GetGeoTransform())\n",
    "print(\"Statistics:\", ds2.GetRasterBand(1).GetStatistics(0,1))\n",
    "\n",
    "data_array2 = ds2.GetRasterBand(1).ReadAsArray() # Indexing for raster bands starts at 1, not 0\n",
    "\n",
    "plt.figure(figsize=(10, 10))\n",
    "plt.imshow(data_array2) # Data array contains elevation data from the raster band. Is this always true?\n",
    "plt.colorbar()\n",
    "plt.show()"
   ]
  },
  {
   "cell_type": "code",
   "execution_count": null,
   "id": "dbcecf9b",
   "metadata": {},
   "outputs": [],
   "source": [
    "print(data_array2.shape)"
   ]
  },
  {
   "cell_type": "markdown",
   "id": "a1346d46",
   "metadata": {},
   "source": [
    "# Actual Script"
   ]
  },
  {
   "cell_type": "code",
   "execution_count": null,
   "id": "aeae5a47",
   "metadata": {},
   "outputs": [],
   "source": [
    "# Read in the CSV and store the values as a list of tuples\n",
    "df = pd.read_csv(\"./TestCase1/3BeamCoordinates+Extra.csv\")\n",
    "\n",
    "# As of now, Latitude and Longitude are the coordinates of the GT1R strong beam.\n",
    "# If 'Freeboard Height' is an invalid column name, it should be '1FBH'\n",
    "# If we need more data, this dataframe and cooresponding ATL10 script should include the coordinate pairs extracted\n",
    "# and recalculate for each beam so we can have a 3 to 6-fold increase our tiles.\n",
    "\n",
    "# Split into the beam/ reading pairs\n",
    "df1r = df[['gt1rLat', 'gt1rLon', 'gt1rFBH']].dropna().assign(beam=\"gt1r\")\n",
    "df1l = df[['gt1lLat', 'gt1lLon', 'gt1lFBH']].dropna().assign(beam=\"gt1l\")\n",
    "gt1r = list(zip(df1r['beam'], df1r['gt1rLat'], df1r['gt1rLon'], df1r['gt1rFBH']))\n",
    "gt1l = list(zip(df1l['beam'], df1l['gt1lLat'], df1l['gt1lLon'], df1l['gt1lFBH']))\n",
    "del df1r, df1l\n",
    "\n",
    "df2r = df[['gt2rLat', 'gt2rLon', 'gt2rFBH']].dropna().assign(beam=\"gt2r\")\n",
    "df2l = df[['gt2lLat', 'gt2lLon', 'gt2lFBH']].dropna().assign(beam=\"gt2l\")\n",
    "gt2r = list(zip(df2r['beam'], df2r['gt2rLat'], df2r['gt2rLon'], df2r['gt2rFBH']))\n",
    "gt2l = list(zip(df2l['beam'], df2l['gt2lLat'], df2l['gt2lLon'], df2l['gt2lFBH']))\n",
    "del df2r, df2l\n",
    "\n",
    "df3r = df[['gt3rLat', 'gt3rLon', 'gt3rFBH']].dropna().assign(beam=\"gt3r\")\n",
    "df3l = df[['gt3lLat', 'gt3lLon', 'gt3lFBH']].dropna().assign(beam=\"gt3l\")\n",
    "gt3r = list(zip(df3r['beam'], df3r['gt3rLat'], df3r['gt3rLon'], df3r['gt3rFBH']))\n",
    "gt3l = list(zip(df3l['beam'], df3l['gt3lLat'], df3l['gt3lLon'], df3l['gt3lFBH']))\n",
    "del df3r, df3l\n",
    "\n",
    "atlasMeasurements = gt1r + gt1l + gt2r + gt2l + gt3r + gt3l\n",
    "print(len(atlasMeasurements))\n",
    "print(atlasMeasurements[0])\n",
    "print(atlasMeasurements[-1])"
   ]
  },
  {
   "cell_type": "code",
   "execution_count": null,
   "id": "afe4d723",
   "metadata": {},
   "outputs": [],
   "source": [
    "# Open, reproject, and normalize the SAR image raster\n",
    "raster = \"./TestCase1/s1a-ew-grd-hv-20210304t163412-20210304t163512-036851-045567-002.tiff\"\n",
    "ds = gdal.Open(raster)\n",
    "\n",
    "# Reproject the test case into standard lat/long\n",
    "gdal.Warp(\"reprojectedWSG84.tiff\",raster,dstSRS='EPSG:4326')\n",
    "raster2 = \"./reprojectedWSG84.tiff\"\n",
    "\n",
    "# Open the new reprojection\n",
    "ds2 = gdal.Open(raster2)"
   ]
  },
  {
   "cell_type": "code",
   "execution_count": null,
   "id": "9a989c06",
   "metadata": {},
   "outputs": [],
   "source": [
    "# Reading and printing the raster data\n",
    "band = ds2.GetRasterBand(1)\n",
    "band_array = band.ReadAsArray() # Indexing for raster bands starts at 1, not 0\n",
    "band_array.shape\n",
    "xoffset, px_w, rot1, yoffset, rot2, px_h = ds2.GetGeoTransform() # The transformation matrix to get the coordinates from the picture\n",
    "\n",
    "extent = [xoffset, yoffset, xoffset + px_w * ds2.RasterXSize, yoffset + px_h * ds2.RasterYSize]\n",
    "print(extent)\n",
    "\n",
    "plt.figure(figsize=(10, 10))\n",
    "plt.imshow(band_array) # Data array contains elevation data from the raster band. Is this always true?\n",
    "plt.colorbar()\n",
    "plt.show()\n"
   ]
  },
  {
   "cell_type": "code",
   "execution_count": null,
   "id": "63e21947",
   "metadata": {},
   "outputs": [],
   "source": [
    "# Utility Functions\n",
    "def getTileCenter(index: int):\n",
    "    _ , lat, lon, fb_h = atlasMeasurements[index]\n",
    "    pixel_x = (lon - xoffset) / px_w\n",
    "    pixel_x = floor(pixel_x - 8.5)\n",
    "\n",
    "    pixel_y = (lat - yoffset) / px_h\n",
    "    pixel_y = floor(pixel_y - 8.5)\n",
    "\n",
    "    calculatedCoord = (pixel_x, pixel_y)\n",
    "    return calculatedCoord\n",
    "\n",
    "def getFileDirectoryAndName(value: float, index: int, beam_name: str):\n",
    "    path = \"D:\\Sentinel1\\six-beam-directory\"\n",
    "    return path + \"\\\\\" + beam_name + str(index) + \"-\" + str(value) + \".tiff\"\n",
    "\n",
    "def isTileEmpty(pixelTuples: tuple):\n",
    "    topLeftX, topLeftY = pixelTuples\n",
    "    tile = band.ReadAsArray(topLeftX,topLeftY, 17, 17)\n",
    "    if tile is not None and tile.any():\n",
    "        sortList = sorted(tile[0])\n",
    "        print([sortList[0], sortList[len(sortList)-1]])\n",
    "        return True\n",
    "    return False\n"
   ]
  },
  {
   "cell_type": "code",
   "execution_count": null,
   "id": "836d2ec5",
   "metadata": {},
   "outputs": [],
   "source": [
    "if rot1 == 0 and rot2 == 0:\n",
    "    # We want to calculate the pixel, store the freeboard measurement, check the next coord, and write if it's not the same\n",
    "    print(\"No need to worry about rotation, now converting\")\n",
    "    measuredVal = 0\n",
    "    numRepeats = 0\n",
    "    for i in range(len(atlasMeasurements) - 1):\n",
    "        pixelCoords = getTileCenter(i)\n",
    "        nextCoords = getTileCenter(i+1)\n",
    "        beam_name,_,_, fb_h = atlasMeasurements[i]\n",
    "        window = (*pixelCoords, 17, 17)\n",
    "        \n",
    "        # If the next point is at the same pixel coordinate, just update the running total\n",
    "        if pixelCoords == nextCoords:\n",
    "            measuredVal += fb_h\n",
    "            numRepeats += 1\n",
    "        else:\n",
    "            # otherwise, tile the image using the average of the running total's freeboard measurement.\n",
    "            if numRepeats == 0:\n",
    "                tileName = getFileDirectoryAndName(fb_h, i, beam_name)\n",
    "            else:\n",
    "                measuredVal += fb_h\n",
    "                numRepeats += 1\n",
    "                tileName = getFileDirectoryAndName(measuredVal / numRepeats, i, beam_name)\n",
    "            hasData = isTileEmpty(pixelCoords)\n",
    "            if not hasData:\n",
    "                print(i, \"Has no data\", pixelCoords)\n",
    "            else:\n",
    "                if i % 1000 == 0:\n",
    "                    print(i, \" - \", tileName)\n",
    "                gdal.Translate(tileName, raster2, srcWin = window)\n",
    "                measuredVal = 0\n",
    "                numRepeats = 0\n",
    "else:\n",
    "    print(\"Cannot proceed, must rotate the image when finding pixels\")\n",
    "    \n"
   ]
  },
  {
   "cell_type": "markdown",
   "id": "f4926bca",
   "metadata": {},
   "source": [
    "# Visualizing Beam Data"
   ]
  },
  {
   "cell_type": "code",
   "execution_count": null,
   "id": "488cc4d1",
   "metadata": {},
   "outputs": [],
   "source": [
    "df = pd.read_csv(\"./TestCase1/3BeamCoordinates+Extra.csv\")\n",
    "fbhr1 = df['gt1rFBH'].dropna().plot(kind='kde')\n",
    "fbhr2 = df['gt2rFBH'].dropna().plot(kind='kde')\n",
    "fbhr3 = df['gt3rFBH'].dropna().plot(kind='kde')\n",
    "\n",
    "fbhl1 = df['gt1lFBH'].dropna().plot(kind='kde')\n",
    "fbhl2 = df['gt2lFBH'].dropna().plot(kind='kde')\n",
    "fbhl3 = df['gt3lFBH'].dropna().plot(kind='kde')\n",
    "\n",
    "\n",
    "plt.legend(['gt1r', 'gt2r', 'gt3r', 'gt1l', 'gt2l', 'gt3l'])"
   ]
  },
  {
   "cell_type": "code",
   "execution_count": null,
   "id": "15a2cfa7",
   "metadata": {},
   "outputs": [],
   "source": [
    "gt1r = df['gt1rFBH']\n",
    "gt1l = df['gt1lFBH']\n",
    "gt2r = df['gt2rFBH']\n",
    "gt2l = df['gt2lFBH']\n",
    "gt3r = df['gt3rFBH']\n",
    "gt3l = df['gt3lFBH']\n",
    "\n",
    "means = df[['gt1rFBH', 'gt1lFBH', 'gt2rFBH', 'gt2lFBH', 'gt3rFBH', 'gt3lFBH']].mean()\n",
    "\n",
    "print(means.mean())\n",
    "\n",
    "print(gt1r.min())\n",
    "print(gt1r.max())\n",
    "print(gt1r.mean())\n",
    "print(gt1l.min())\n",
    "print(gt1l.max())\n",
    "print(gt1l.mean())\n",
    "\n",
    "\n",
    "print(gt2r.min())\n",
    "print(gt2r.max())\n",
    "print(gt2r.mean())\n",
    "print(gt2l.min())\n",
    "print(gt2l.max())\n",
    "print(gt2l.mean())\n",
    "\n",
    "print(gt3r.min())\n",
    "print(gt3r.max())\n",
    "print(gt3r.mean())\n",
    "print(gt3l.min())\n",
    "print(gt3l.max())\n",
    "print(gt3l.mean())"
   ]
  }
 ],
 "metadata": {
  "kernelspec": {
   "display_name": "Python 3 (ipykernel)",
   "language": "python",
   "name": "python3"
  },
  "language_info": {
   "codemirror_mode": {
    "name": "ipython",
    "version": 3
   },
   "file_extension": ".py",
   "mimetype": "text/x-python",
   "name": "python",
   "nbconvert_exporter": "python",
   "pygments_lexer": "ipython3",
   "version": "3.10.11"
  }
 },
 "nbformat": 4,
 "nbformat_minor": 5
}
