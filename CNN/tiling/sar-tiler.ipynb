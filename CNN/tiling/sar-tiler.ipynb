{
 "cells": [
  {
   "cell_type": "code",
   "execution_count": null,
   "metadata": {},
   "outputs": [],
   "source": [
    "from osgeo import gdal\n",
    "from math import floor\n",
    "import pandas as pd\n",
    "import numpy as np\n",
    "import matplotlib.pyplot as plt"
   ]
  },
  {
   "cell_type": "markdown",
   "metadata": {},
   "source": [
    "## A Notebook used to tile an entire SAR image into distinct footprints to pass into the trained model"
   ]
  },
  {
   "cell_type": "code",
   "execution_count": null,
   "metadata": {},
   "outputs": [],
   "source": [
    "# Opening the raster\n",
    "raster = \"./test-data/s1a-ew-grd-hv-20210304t163412-20210304t163512-036851-045567-002.tiff\"\n",
    "ds = gdal.Open(raster)\n",
    "\n",
    "print(\"Projection: \", ds.GetProjection()) # get projection\n",
    "print(\"Tiff width (pixels):\", ds.RasterXSize)  # number of columns\n",
    "print(\"Tiff Height (pixels):\", ds.RasterYSize)  # number of rows\n",
    "print(\"Band count:\", ds.RasterCount)  # number of bands\n",
    "print(\"GeoTransform Matrix\", ds.GetGeoTransform())\n",
    "print(\"Statistics:\", ds.GetRasterBand(1).GetStatistics(0,1))\n",
    "\n",
    "data_array2 = ds.GetRasterBand(1).ReadAsArray() # Indexing for raster bands starts at 1, not 0\n",
    "\n",
    "plt.figure(figsize=(10, 10))\n",
    "plt.imshow(data_array2) # Data array contains elevation data from the raster band. Is this always true?\n",
    "plt.colorbar()\n",
    "plt.show()"
   ]
  },
  {
   "cell_type": "code",
   "execution_count": null,
   "metadata": {},
   "outputs": [],
   "source": [
    "print(\"Tiff width (pixels):\", ds.RasterXSize)  # number of columns\n",
    "print(\"Tiff Height (pixels):\", ds.RasterYSize)  # number of rows\n",
    "FOOTPRINT_WIDTH = 17\n",
    "VISUAL_FACTOR = 10\n",
    "\n",
    "x_corners = []\n",
    "y_corners = []\n",
    "\n",
    "tile_num = 0\n",
    "y_index = 0\n",
    "for i in range(0, ds.RasterYSize, FOOTPRINT_WIDTH):\n",
    "    x_index = 0\n",
    "    y_index += 1\n",
    "    # If there isn't enough data on the bottom edge, break\n",
    "    if ds.RasterYSize - i < FOOTPRINT_WIDTH:\n",
    "      break    \n",
    "    for j in range(0, ds.RasterXSize, FOOTPRINT_WIDTH):\n",
    "        x_index += 1\n",
    "        # If there isn't enough data on the right edge, continue to the next row\n",
    "        if ds.RasterXSize - j < FOOTPRINT_WIDTH:\n",
    "            continue\n",
    "        # If it's the 10th tile, add it to the array\n",
    "        if x_index % VISUAL_FACTOR == 0 and y_index % VISUAL_FACTOR == 0:\n",
    "            x_corners.append(j)\n",
    "            y_corners.append(i)\n",
    "        # Tile the image\n",
    "            window = (i, j, FOOTPRINT_WIDTH, FOOTPRINT_WIDTH)\n",
    "        # gdal.Translate(tile_num, ds2, srcWin = window)\n",
    "        tile_num += 1\n",
    "        print(i , j)\n",
    "\n",
    "plt.figure(figsize=(10, 10))\n",
    "plt.imshow(data_array2) # Data array contains elevation data from the raster band. Is this always true?\n",
    "plt.scatter(x=x_corners, y=y_corners, c='r', s=1, alpha=0.5)\n",
    "plt.title(f\"SAR Tiling for Trained Model (Factor of {VISUAL_FACTOR})\")\n",
    "plt.figtext(0.9, 0.05, f'Total of {tile_num} tiles', horizontalalignment='right')\n",
    "plt.show()"
   ]
  }
 ],
 "metadata": {
  "kernelspec": {
   "display_name": "Python 3",
   "language": "python",
   "name": "python3"
  },
  "language_info": {
   "codemirror_mode": {
    "name": "ipython",
    "version": 3
   },
   "file_extension": ".py",
   "mimetype": "text/x-python",
   "name": "python",
   "nbconvert_exporter": "python",
   "pygments_lexer": "ipython3",
   "version": "3.10.11"
  }
 },
 "nbformat": 4,
 "nbformat_minor": 2
}
