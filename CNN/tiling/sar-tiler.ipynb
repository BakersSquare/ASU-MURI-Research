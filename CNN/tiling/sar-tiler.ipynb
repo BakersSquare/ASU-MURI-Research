{
 "cells": [
  {
   "cell_type": "code",
   "execution_count": null,
   "metadata": {},
   "outputs": [],
   "source": [
    "from osgeo import gdal\n",
    "from math import floor\n",
    "import pandas as pd\n",
    "import numpy as np\n",
    "import matplotlib.pyplot as plt"
   ]
  },
  {
   "cell_type": "markdown",
   "metadata": {},
   "source": [
    "## A Notebook used to tile an entire SAR image into distinct footprints to pass into the trained model"
   ]
  },
  {
   "cell_type": "code",
   "execution_count": null,
   "metadata": {},
   "outputs": [],
   "source": [
    "# Opening the raster\n",
    "raster = \"D:\\ICEEYE\\Proposal_ID_PP0091278\\CS-13801\\SLEA_3279211_180312\\SLEA-Repojected-WSG84.tiff\"\n",
    "ds = gdal.Open(raster)\n",
    "\n",
    "raster_band = ds.GetRasterBand(1)\n",
    "xoffset, px_w, rot1, yoffset, rot2, px_h = ds.GetGeoTransform() # The transformation matrix to get the coordinates from the picture\n",
    "\n",
    "icesat_data = \"D:\\ICEEYE\\Proposal_ID_PP0091278\\CS-13801\\SLEA_3279211_180312\\Coincident-Readings.csv\"\n",
    "icesat_data = pd.read_csv(icesat_data)\n",
    "num_rows = len(icesat_data)\n",
    "\n",
    "print(\"Projection: \", ds.GetProjection()) # get projection\n",
    "print(\"Tiff width (pixels):\", ds.RasterXSize)  # number of columns\n",
    "print(\"Tiff Height (pixels):\", ds.RasterYSize)  # number of rows\n",
    "print(\"Band count:\", ds.RasterCount)  # number of bands\n",
    "print(\"GeoTransform Matrix\", ds.GetGeoTransform())\n",
    "print(\"Statistics:\", ds.GetRasterBand(1).GetStatistics(0,1))\n",
    "print(f\"Number of data points: {num_rows}\")\n",
    "print(icesat_data.head(1))\n",
    "\n",
    "data_array2 = ds.GetRasterBand(1).ReadAsArray() # Indexing for raster bands starts at 1, not 0\n",
    "\n",
    "# plt.figure(figsize=(10, 10))\n",
    "# plt.imshow(data_array2, cmap=\"viridis\") # Data array contains elevation data from the raster band. Is this always true?\n",
    "# plt.colorbar()\n",
    "# plt.show()"
   ]
  },
  {
   "cell_type": "code",
   "execution_count": null,
   "metadata": {},
   "outputs": [],
   "source": [
    "# Utility Functions\n",
    "def getTileCenter(index: int):\n",
    "    row = icesat_data.iloc[[index]]\n",
    "    lat = float(row['Lat'])\n",
    "    lon = float(row['Lon'])\n",
    "    pixel_x = (lon - xoffset) / px_w\n",
    "    pixel_x = floor(pixel_x - 8.5)\n",
    "\n",
    "    pixel_y = (lat - yoffset) / px_h\n",
    "    pixel_y = floor(pixel_y - 8.5)\n",
    "\n",
    "    calculatedCoord = (pixel_x, pixel_y)\n",
    "    return calculatedCoord\n",
    "\n",
    "def getFileDirectoryAndName(value: float, index: int, beam_name: str):\n",
    "    path = \"D:\\\\ICEEYE\\\\Proposal_ID_PP0091278\\\\CS-13801\\\\SLEA_3279211_180312\\\\Ice-Sat-Tiles-Scaled\"\n",
    "    return path + \"\\\\\" + beam_name + str(index) + \"-\" + str(value) + \".tif\"\n",
    "\n",
    "def isTileEmpty(pixelTuples: tuple):\n",
    "    topLeftX, topLeftY = pixelTuples\n",
    "    tile = raster_band.ReadAsArray(topLeftX,topLeftY, 17, 17)\n",
    "    if tile is not None and tile.any():\n",
    "        sortList = sorted(tile[0])\n",
    "        # print([sortList[0], sortList[len(sortList)-1]])\n",
    "        return True\n",
    "    return False"
   ]
  },
  {
   "cell_type": "code",
   "execution_count": null,
   "metadata": {},
   "outputs": [],
   "source": [
    "print(\"Tiff width (pixels):\", ds.RasterXSize)  # number of columns\n",
    "print(\"Tiff Height (pixels):\", ds.RasterYSize)  # number of rows\n",
    "FOOTPRINT_WIDTH = 17\n",
    "VISUAL_FACTOR = 10\n",
    "\n",
    "x_corners = []\n",
    "y_corners = []\n",
    "\n",
    "tile_num = 0\n",
    "y_index = 0\n",
    "measuredVal = 0\n",
    "numRepeats = 0\n",
    "for i, row in icesat_data.iterrows():\n",
    "    pixelCoords = getTileCenter(i)\n",
    "    print(f\"{i} / {num_rows}\")\n",
    "    if i + 1 < num_rows:\n",
    "        nextCoords = getTileCenter(i+1)\n",
    "    else:\n",
    "        nextCoords = (False, False)\n",
    "    beam_name = row['Beam']\n",
    "    fb_h = row['fbh']\n",
    "    window = (*pixelCoords, 17, 17)\n",
    "    # If the next point is at the same pixel coordinate, just update the running total\n",
    "    if pixelCoords == nextCoords:\n",
    "        measuredVal += fb_h\n",
    "        numRepeats += 1\n",
    "    else:\n",
    "        # otherwise, tile the image using the average of the running total's freeboard measurement.\n",
    "        if numRepeats == 0:\n",
    "            tileName = getFileDirectoryAndName(fb_h, i, beam_name)\n",
    "        else:\n",
    "            measuredVal += fb_h\n",
    "            numRepeats += 1\n",
    "            tileName = getFileDirectoryAndName(measuredVal / numRepeats, i, beam_name)\n",
    "        hasData = isTileEmpty(pixelCoords)\n",
    "        if not hasData:\n",
    "            print(i, \"Has no data\", pixelCoords)\n",
    "        else:\n",
    "            if i % VISUAL_FACTOR == 0:\n",
    "                x, y = pixelCoords\n",
    "                x_corners.append(x)\n",
    "                y_corners.append(y)\n",
    "                print(i, \" - \", tileName)\n",
    "            gdal.Translate(tileName, raster, srcWin = window, format=\"PNG\", scaleParams=[[]])\n",
    "            tile_num += 1\n",
    "            measuredVal = 0\n",
    "            numRepeats = 0"
   ]
  },
  {
   "cell_type": "code",
   "execution_count": null,
   "metadata": {},
   "outputs": [],
   "source": [
    "plt.imshow(data_array2) # Data array contains elevation data from the raster band. Is this always true?\n",
    "plt.scatter(x=x_corners, y=y_corners, c='r', s=1, alpha=0.5)\n",
    "plt.title(f\"SAR Tiling for Trained Model (Factor of {VISUAL_FACTOR})\")\n",
    "plt.figtext(0.9, 0.25, f'Total of {tile_num} tiles', horizontalalignment='right')\n",
    "plt.show()"
   ]
  }
 ],
 "metadata": {
  "kernelspec": {
   "display_name": "Python 3",
   "language": "python",
   "name": "python3"
  },
  "language_info": {
   "codemirror_mode": {
    "name": "ipython",
    "version": 3
   },
   "file_extension": ".py",
   "mimetype": "text/x-python",
   "name": "python",
   "nbconvert_exporter": "python",
   "pygments_lexer": "ipython3",
   "version": "3.10.11"
  }
 },
 "nbformat": 4,
 "nbformat_minor": 2
}
